{
 "cells": [
  {
   "cell_type": "code",
   "execution_count": 1,
   "metadata": {},
   "outputs": [],
   "source": [
    "import pandas as pd\n",
    "import spacy\n",
    "import en_core_web_lg\n",
    "pd.set_option('display.max_colwidth', -1)\n",
    "import numpy as np"
   ]
  },
  {
   "cell_type": "code",
   "execution_count": 2,
   "metadata": {},
   "outputs": [],
   "source": [
    "testFile = '../data/eval1_unlabelled.tsv'"
   ]
  },
  {
   "cell_type": "code",
   "execution_count": 10,
   "metadata": {},
   "outputs": [],
   "source": [
    "df = pd.read_csv(testFile,delimiter='\\t',header=None)\n",
    "df.columns = ['query_id','query','passage','serial']"
   ]
  },
  {
   "cell_type": "code",
   "execution_count": 6,
   "metadata": {},
   "outputs": [],
   "source": [
    "nlp = spacy.load('en_core_web_lg')"
   ]
  },
  {
   "cell_type": "code",
   "execution_count": null,
   "metadata": {},
   "outputs": [],
   "source": [
    "d = {}\n",
    "for _row in df.iterrows():    \n",
    "    count += 1\n",
    "    currRow = _row[1]\n",
    "    curr_query_id = currRow['query_id']\n",
    "    curr_query = currRow['query']\n",
    "    curr_passage = currRow['passage']\n",
    "    score = round(nlp(curr_query).similarity(nlp(curr_passage)),4)\n",
    "    if curr_query_id not in d:\n",
    "        d[curr_query_id] = [score]\n",
    "    else:\n",
    "        d[curr_query_id].append(score)"
   ]
  },
  {
   "cell_type": "code",
   "execution_count": 17,
   "metadata": {},
   "outputs": [
    {
     "data": {
      "text/plain": [
       "{1135787: [0.8567,\n",
       "  0.7829,\n",
       "  0.7562,\n",
       "  0.8374,\n",
       "  0.7825,\n",
       "  0.7333,\n",
       "  0.5692,\n",
       "  0.7936,\n",
       "  0.7882,\n",
       "  0.7865]}"
      ]
     },
     "execution_count": 17,
     "metadata": {},
     "output_type": "execute_result"
    }
   ],
   "source": [
    "d"
   ]
  },
  {
   "cell_type": "code",
   "execution_count": null,
   "metadata": {},
   "outputs": [],
   "source": []
  }
 ],
 "metadata": {
  "kernelspec": {
   "display_name": "Python 3",
   "language": "python",
   "name": "python3"
  },
  "language_info": {
   "codemirror_mode": {
    "name": "ipython",
    "version": 3
   },
   "file_extension": ".py",
   "mimetype": "text/x-python",
   "name": "python",
   "nbconvert_exporter": "python",
   "pygments_lexer": "ipython3",
   "version": "3.7.0"
  }
 },
 "nbformat": 4,
 "nbformat_minor": 2
}
