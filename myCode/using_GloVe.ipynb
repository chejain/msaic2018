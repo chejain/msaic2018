{
 "cells": [
  {
   "cell_type": "code",
   "execution_count": null,
   "metadata": {},
   "outputs": [],
   "source": [
    "import pandas as pd\n",
    "pd.set_option('display.max_colwidth', -1)"
   ]
  },
  {
   "cell_type": "code",
   "execution_count": null,
   "metadata": {},
   "outputs": [],
   "source": [
    "import spacy\n",
    "# import en_core_web_sm"
   ]
  },
  {
   "cell_type": "code",
   "execution_count": null,
   "metadata": {},
   "outputs": [],
   "source": [
    "import en_core_web_lg"
   ]
  },
  {
   "cell_type": "code",
   "execution_count": null,
   "metadata": {},
   "outputs": [],
   "source": [
    "nlp_sm = spacy.load('en_core_web_sm')"
   ]
  },
  {
   "cell_type": "code",
   "execution_count": 4,
   "metadata": {},
   "outputs": [],
   "source": [
    "nlp = spacy.load('en_core_web_lg')"
   ]
  },
  {
   "cell_type": "code",
   "execution_count": 5,
   "metadata": {},
   "outputs": [],
   "source": [
    "eval_dataFile = '../data/eval1_unlabelled.tsv'\n",
    "train_dataFile = '../data/data.tsv'"
   ]
  },
  {
   "cell_type": "code",
   "execution_count": 6,
   "metadata": {},
   "outputs": [],
   "source": [
    "df = pd.read_csv(train_dataFile,delimiter='\\t',header=None)"
   ]
  },
  {
   "cell_type": "code",
   "execution_count": 7,
   "metadata": {},
   "outputs": [],
   "source": [
    "df.head(50)\n",
    "df.columns = ['index','query','passage','rank','0-9']"
   ]
  },
  {
   "cell_type": "code",
   "execution_count": null,
   "metadata": {},
   "outputs": [],
   "source": [
    "df.head()"
   ]
  },
  {
   "cell_type": "code",
   "execution_count": null,
   "metadata": {},
   "outputs": [],
   "source": [
    "subdf = df[df['query'] == '. what is a corporation?']\n",
    "subdf"
   ]
  },
  {
   "cell_type": "code",
   "execution_count": null,
   "metadata": {},
   "outputs": [],
   "source": [
    "L = []\n",
    "for idx,row in subdf.iterrows():\n",
    "    query = row[1]\n",
    "    passage = row[2]\n",
    "    query = nlp(query)\n",
    "    passage = nlp(passage)\n",
    "    simila = query.similarity(passage)\n",
    "    L.append(simila)"
   ]
  },
  {
   "cell_type": "code",
   "execution_count": null,
   "metadata": {},
   "outputs": [],
   "source": [
    "subdf['score'] = L"
   ]
  },
  {
   "cell_type": "code",
   "execution_count": null,
   "metadata": {},
   "outputs": [],
   "source": [
    "subdf"
   ]
  },
  {
   "cell_type": "code",
   "execution_count": null,
   "metadata": {},
   "outputs": [],
   "source": [
    "pd.unique(df['query'])"
   ]
  },
  {
   "cell_type": "code",
   "execution_count": null,
   "metadata": {},
   "outputs": [],
   "source": [
    "subdf = df[df['query'] == 'symptoms of a dying mouse']\n",
    "\n",
    "L = []\n",
    "for idx,row in subdf.iterrows():\n",
    "    query = row[1]\n",
    "    passage = row[2]\n",
    "    query = nlp_sm(query)\n",
    "    passage = nlp_sm(passage)\n",
    "    simila = query.similarity(passage)\n",
    "    L.append(simila)\n",
    "subdf['score'] = L"
   ]
  },
  {
   "cell_type": "code",
   "execution_count": null,
   "metadata": {},
   "outputs": [],
   "source": [
    "subdf"
   ]
  },
  {
   "cell_type": "code",
   "execution_count": null,
   "metadata": {},
   "outputs": [],
   "source": [
    "df[df['query'] == 'average number of lightning strikes per day']"
   ]
  },
  {
   "cell_type": "code",
   "execution_count": null,
   "metadata": {},
   "outputs": [],
   "source": [
    "query = nlp('average number of lightning strikes per day')"
   ]
  },
  {
   "cell_type": "code",
   "execution_count": null,
   "metadata": {},
   "outputs": [],
   "source": [
    "para =  nlp(\"Although many lightning flashes are simply cloud-to-cloud, there are as many as 9,000,000 reported lightning strikes that damage buildings, trees, and other objects every year. Worldwide, it is estimated that of an annual 1.4 billion lightning bolts, 25% (more than 350 million) will strike the Earth's surface or objects on the surface. The vast majority of these strikes, however, occur in the tropics, and in unpopulated areas. 100 times per second; Lightning can strike over a thousand times in one storm. So, lightning strikes the earth over a million times a day. Globally, 8,640,000 lightning strikes per day.\")"
   ]
  },
  {
   "cell_type": "code",
   "execution_count": null,
   "metadata": {},
   "outputs": [],
   "source": [
    "sum(para.vector)"
   ]
  },
  {
   "cell_type": "code",
   "execution_count": null,
   "metadata": {},
   "outputs": [],
   "source": [
    "para.vector_norm"
   ]
  },
  {
   "cell_type": "code",
   "execution_count": null,
   "metadata": {},
   "outputs": [],
   "source": [
    "numpy.dot(self.vector, other.vector) / (self.vector_norm * other.vector_norm)"
   ]
  },
  {
   "cell_type": "code",
   "execution_count": 65,
   "metadata": {},
   "outputs": [],
   "source": [
    "import numpy as np"
   ]
  },
  {
   "cell_type": "code",
   "execution_count": null,
   "metadata": {},
   "outputs": [],
   "source": [
    "np.dot(para.vector,query.vector) / (para.vector_norm * query.vector_norm)"
   ]
  },
  {
   "cell_type": "code",
   "execution_count": null,
   "metadata": {},
   "outputs": [],
   "source": [
    "query.similarity(para)"
   ]
  },
  {
   "cell_type": "code",
   "execution_count": null,
   "metadata": {},
   "outputs": [],
   "source": [
    "para.vector_norm"
   ]
  },
  {
   "cell_type": "code",
   "execution_count": null,
   "metadata": {},
   "outputs": [],
   "source": [
    "# calculating norm_vec\n",
    "L = sum(list(map(lambda x:x*x,(para.vector)))) ** 0.5"
   ]
  },
  {
   "cell_type": "code",
   "execution_count": null,
   "metadata": {},
   "outputs": [],
   "source": [
    "L"
   ]
  },
  {
   "cell_type": "code",
   "execution_count": 8,
   "metadata": {},
   "outputs": [],
   "source": [
    "to_pca = df.passage"
   ]
  },
  {
   "cell_type": "code",
   "execution_count": 51,
   "metadata": {},
   "outputs": [
    {
     "name": "stdout",
     "output_type": "stream",
     "text": [
      "0\n",
      "100\n",
      "200\n",
      "300\n",
      "400\n",
      "500\n",
      "600\n",
      "700\n",
      "800\n",
      "900\n",
      "1000\n",
      "1100\n",
      "1200\n",
      "1300\n",
      "1400\n",
      "1500\n",
      "1600\n",
      "1700\n",
      "1800\n",
      "1900\n",
      "2000\n",
      "2100\n",
      "2200\n",
      "2300\n",
      "2400\n",
      "2500\n",
      "2600\n",
      "2700\n",
      "2800\n",
      "2900\n",
      "3000\n",
      "3100\n",
      "3200\n",
      "3300\n",
      "3400\n",
      "3500\n",
      "3600\n",
      "3700\n",
      "3800\n",
      "3900\n",
      "4000\n",
      "4100\n",
      "4200\n",
      "4300\n",
      "4400\n",
      "4500\n",
      "4600\n",
      "4700\n",
      "4800\n",
      "4900\n",
      "5000\n",
      "5100\n",
      "5200\n",
      "5300\n",
      "5400\n",
      "5500\n",
      "5600\n",
      "5700\n",
      "5800\n",
      "5900\n",
      "6000\n",
      "6100\n",
      "6200\n",
      "6300\n",
      "6400\n",
      "6500\n",
      "6600\n",
      "6700\n",
      "6800\n",
      "6900\n",
      "7000\n",
      "7100\n",
      "7200\n",
      "7300\n",
      "7400\n",
      "7500\n",
      "7600\n",
      "7700\n",
      "7800\n",
      "7900\n",
      "8000\n",
      "8100\n",
      "8200\n",
      "8300\n",
      "8400\n",
      "8500\n",
      "8600\n",
      "8700\n",
      "8800\n",
      "8900\n",
      "9000\n",
      "9100\n",
      "9200\n",
      "9300\n",
      "9400\n",
      "9500\n",
      "9600\n",
      "9700\n",
      "9800\n",
      "9900\n",
      "10000\n"
     ]
    }
   ],
   "source": [
    "with open('input_pca.txt','w') as inp:\n",
    "    for idx,row in enumerate(to_pca[:10001]):\n",
    "        v300d = nlp(row)\n",
    "        inp.write(str(idx)+\" \"+\",\".join(list(map(str,v300d.vector)))+\"\\n\")\n",
    "        if not idx % 100:\n",
    "            print (idx)"
   ]
  },
  {
   "cell_type": "code",
   "execution_count": 50,
   "metadata": {},
   "outputs": [
    {
     "name": "stdout",
     "output_type": "stream",
     "text": [
      ". what is a corporation?\n",
      "can laser kill you\n",
      "how many people in us\n",
      "define competencies\n",
      "hardship letter for the irs\n",
      "how to determine your molina provider id number\n",
      "temperature range for hp servers\n",
      "the first example of rationalization\n",
      "the vertical distance between trough and crest is called\n",
      "does ibuprofen affect the liver\n",
      "trox stock price\n"
     ]
    }
   ],
   "source": [
    "queries = pd.unique(df['query'])\n",
    "with open('input_pca_query.txt','w') as inp:\n",
    "    for idx,row in enumerate(queries[:1001]):\n",
    "        v300d = nlp(row)\n",
    "        inp.write(str(idx)+\" \"+\",\".join(list(map(str,v300d.vector)))+\"\\n\")\n",
    "        if not idx % 100:\n",
    "            print (row)"
   ]
  },
  {
   "cell_type": "code",
   "execution_count": 49,
   "metadata": {},
   "outputs": [],
   "source": [
    "# queries[:100]"
   ]
  },
  {
   "cell_type": "code",
   "execution_count": 62,
   "metadata": {},
   "outputs": [],
   "source": [
    "with open('pca_query_op.txt','r') as qopF:\n",
    "    qop = qopF.read().splitlines()\n",
    "    \n",
    "with open('pca_op.txt','r') as popF:\n",
    "    pop = popF.readlines()"
   ]
  },
  {
   "cell_type": "code",
   "execution_count": 74,
   "metadata": {},
   "outputs": [
    {
     "name": "stdout",
     "output_type": "stream",
     "text": [
      "0.03935065971874093\n",
      "0.2855661463242159\n",
      "0.262122782147297\n",
      "0.04548257596744722\n",
      "0.34675930492349694\n",
      "0.3046789427431791\n",
      "0.1693655071236311\n",
      "0.3065358153700992\n",
      "-0.21088677181037077\n",
      "0.2604728760701314\n"
     ]
    }
   ],
   "source": [
    "score_50d = []\n",
    "for i in range(2,len(qop)):\n",
    "    query_vec = list(map(float,qop[i].split(\" \")[1].split(',')))\n",
    "    query_vec_norm = sum(list(map(lambda x : x**2, query_vec))) **0.5\n",
    "    for j in range(i*10,len(pop),10):\n",
    "        for k in range(j,j+10,1):\n",
    "            pass_vec = list(map(float,pop[k].split(\" \")[1].split(',')))\n",
    "            pass_vec_norm = sum(list(map(lambda x : x**2, pass_vec))) **0.5\n",
    "            score = np.dot(pass_vec,query_vec) / (pass_vec_norm * query_vec_norm)\n",
    "            print (score)\n",
    "            score_50d.append(score)\n",
    "        break\n",
    "    break\n",
    "        "
   ]
  },
  {
   "cell_type": "code",
   "execution_count": 69,
   "metadata": {},
   "outputs": [
    {
     "data": {
      "text/plain": [
       "10010"
      ]
     },
     "execution_count": 69,
     "metadata": {},
     "output_type": "execute_result"
    }
   ],
   "source": [
    "len(score_50d)"
   ]
  },
  {
   "cell_type": "code",
   "execution_count": 75,
   "metadata": {},
   "outputs": [
    {
     "data": {
      "text/html": [
       "<div>\n",
       "<style scoped>\n",
       "    .dataframe tbody tr th:only-of-type {\n",
       "        vertical-align: middle;\n",
       "    }\n",
       "\n",
       "    .dataframe tbody tr th {\n",
       "        vertical-align: top;\n",
       "    }\n",
       "\n",
       "    .dataframe thead th {\n",
       "        text-align: right;\n",
       "    }\n",
       "</style>\n",
       "<table border=\"1\" class=\"dataframe\">\n",
       "  <thead>\n",
       "    <tr style=\"text-align: right;\">\n",
       "      <th></th>\n",
       "      <th>index</th>\n",
       "      <th>query</th>\n",
       "      <th>passage</th>\n",
       "      <th>rank</th>\n",
       "      <th>0-9</th>\n",
       "    </tr>\n",
       "  </thead>\n",
       "  <tbody>\n",
       "    <tr>\n",
       "      <th>20</th>\n",
       "      <td>100000</td>\n",
       "      <td>average number of lightning strikes per day</td>\n",
       "      <td>Lightning is a major cause of storm related deaths in the U.S. A lightning strike can result in a cardiac arrest (heart stopping) at the time of the injury, although some victims may appear to have a delayed death a few days later if they are resuscitated but have suffered irreversible brain damage.</td>\n",
       "      <td>0</td>\n",
       "      <td>0</td>\n",
       "    </tr>\n",
       "    <tr>\n",
       "      <th>21</th>\n",
       "      <td>100000</td>\n",
       "      <td>average number of lightning strikes per day</td>\n",
       "      <td>Quick Answer. Lightning strikes reach the ground on Earth as much as 8 million times per day or 100 times per second, according to the National Severe Storms Laboratory. Out of all the lightning strikes in the world, the United States accounts for about 20 million of the total number of lightning strikes each year. Keep Learning.</td>\n",
       "      <td>0</td>\n",
       "      <td>1</td>\n",
       "    </tr>\n",
       "    <tr>\n",
       "      <th>22</th>\n",
       "      <td>100000</td>\n",
       "      <td>average number of lightning strikes per day</td>\n",
       "      <td>An average lightning strike discharges about 30,000 amperes (20,000 amperes in the UK). The current in a lightning strike typically ranges from 5,000 to 50,000 amperes depending on the strength of storm. NASA has recorded strikes of 100,000 amperes and there are other reports of strikes over 200,000 amperes.</td>\n",
       "      <td>0</td>\n",
       "      <td>2</td>\n",
       "    </tr>\n",
       "    <tr>\n",
       "      <th>23</th>\n",
       "      <td>100000</td>\n",
       "      <td>average number of lightning strikes per day</td>\n",
       "      <td>Lightning fatalities in the U.S.: A map of total lightning fatalities in the United States between 1959 and 2013. With 471 deaths, Florida has more than double the number of fatalities of any other state.</td>\n",
       "      <td>0</td>\n",
       "      <td>3</td>\n",
       "    </tr>\n",
       "    <tr>\n",
       "      <th>24</th>\n",
       "      <td>100000</td>\n",
       "      <td>average number of lightning strikes per day</td>\n",
       "      <td>Lightning is a sudden high-voltage discharge of electricity that occurs within a cloud, between clouds, or between a cloud and the ground. Globally, there are about 40 to 50 flashes of lightning every second, or nearly 1.4 billion flashes per year.</td>\n",
       "      <td>0</td>\n",
       "      <td>4</td>\n",
       "    </tr>\n",
       "    <tr>\n",
       "      <th>25</th>\n",
       "      <td>100000</td>\n",
       "      <td>average number of lightning strikes per day</td>\n",
       "      <td>Although many lightning flashes are simply cloud-to-cloud, there are as many as 9,000,000 reported lightning strikes that damage buildings, trees, and other objects every year. Worldwide, it is estimated that of an annual 1.4 billion lightning bolts, 25% (more than 350 million) will strike the Earth's surface or objects on the surface. The vast majority of these strikes, however, occur in the tropics, and in unpopulated areas. 100 times per second; Lightning can strike over a thousand times in one storm. So, lightning strikes the earth over a million times a day. Globally, 8,640,000 lightning strikes per day.</td>\n",
       "      <td>1</td>\n",
       "      <td>5</td>\n",
       "    </tr>\n",
       "    <tr>\n",
       "      <th>26</th>\n",
       "      <td>100000</td>\n",
       "      <td>average number of lightning strikes per day</td>\n",
       "      <td>According to the NWS Storm Data, over the last 30 years (1986-2015) the U.S. has averaged 48 reported lightning fatalities per year. Only about 10% of people who are struck by lightning are killed, leaving 90% with various degrees of disability. More recently, in the last 10 years (2006-2015), the U.S. has averaged 31 lightning fatalities.</td>\n",
       "      <td>0</td>\n",
       "      <td>6</td>\n",
       "    </tr>\n",
       "    <tr>\n",
       "      <th>27</th>\n",
       "      <td>100000</td>\n",
       "      <td>average number of lightning strikes per day</td>\n",
       "      <td>Approximately 300,000 lightning strikes hit the ground in Britain each year with 30 percent of reported lightning strikes causing severe damage. Each year 30 to 60 people are recorded as being struck by lightning, 3 of whom, on average, die (14 in 1984 compared to 2 in 2005).</td>\n",
       "      <td>0</td>\n",
       "      <td>7</td>\n",
       "    </tr>\n",
       "    <tr>\n",
       "      <th>28</th>\n",
       "      <td>100000</td>\n",
       "      <td>average number of lightning strikes per day</td>\n",
       "      <td>Florida is also the state with the highest number of deaths from lightning strikes. Other states along the Gulf of Mexico coast, such as Alabama, Mississippi, Louisiana, and Texas, also have frequent lightning. Along the Atlantic coast, North Carolina and South Carolina have frequent lightning.</td>\n",
       "      <td>0</td>\n",
       "      <td>8</td>\n",
       "    </tr>\n",
       "    <tr>\n",
       "      <th>29</th>\n",
       "      <td>100000</td>\n",
       "      <td>average number of lightning strikes per day</td>\n",
       "      <td>There is estimated to be around 2,000 lightning storm active around the global at one time creating over 100 strikes per second. These thunderstorms generate a potential difference of 200,000 to 500,000 volts between the Earth’s surface and the ionosphere, with a fair weather current of about 2×10-12 amperes/meter2.</td>\n",
       "      <td>0</td>\n",
       "      <td>9</td>\n",
       "    </tr>\n",
       "  </tbody>\n",
       "</table>\n",
       "</div>"
      ],
      "text/plain": [
       "     index                                        query  \\\n",
       "20  100000  average number of lightning strikes per day   \n",
       "21  100000  average number of lightning strikes per day   \n",
       "22  100000  average number of lightning strikes per day   \n",
       "23  100000  average number of lightning strikes per day   \n",
       "24  100000  average number of lightning strikes per day   \n",
       "25  100000  average number of lightning strikes per day   \n",
       "26  100000  average number of lightning strikes per day   \n",
       "27  100000  average number of lightning strikes per day   \n",
       "28  100000  average number of lightning strikes per day   \n",
       "29  100000  average number of lightning strikes per day   \n",
       "\n",
       "                                                                                                                                                                                                                                                                                                                                                                                                                                                                                                                                                                                                                                     passage  \\\n",
       "20  Lightning is a major cause of storm related deaths in the U.S. A lightning strike can result in a cardiac arrest (heart stopping) at the time of the injury, although some victims may appear to have a delayed death a few days later if they are resuscitated but have suffered irreversible brain damage.                                                                                                                                                                                                                                                                                                                               \n",
       "21  Quick Answer. Lightning strikes reach the ground on Earth as much as 8 million times per day or 100 times per second, according to the National Severe Storms Laboratory. Out of all the lightning strikes in the world, the United States accounts for about 20 million of the total number of lightning strikes each year. Keep Learning.                                                                                                                                                                                                                                                                                                \n",
       "22  An average lightning strike discharges about 30,000 amperes (20,000 amperes in the UK). The current in a lightning strike typically ranges from 5,000 to 50,000 amperes depending on the strength of storm. NASA has recorded strikes of 100,000 amperes and there are other reports of strikes over 200,000 amperes.                                                                                                                                                                                                                                                                                                                      \n",
       "23  Lightning fatalities in the U.S.: A map of total lightning fatalities in the United States between 1959 and 2013. With 471 deaths, Florida has more than double the number of fatalities of any other state.                                                                                                                                                                                                                                                                                                                                                                                                                               \n",
       "24  Lightning is a sudden high-voltage discharge of electricity that occurs within a cloud, between clouds, or between a cloud and the ground. Globally, there are about 40 to 50 flashes of lightning every second, or nearly 1.4 billion flashes per year.                                                                                                                                                                                                                                                                                                                                                                                   \n",
       "25  Although many lightning flashes are simply cloud-to-cloud, there are as many as 9,000,000 reported lightning strikes that damage buildings, trees, and other objects every year. Worldwide, it is estimated that of an annual 1.4 billion lightning bolts, 25% (more than 350 million) will strike the Earth's surface or objects on the surface. The vast majority of these strikes, however, occur in the tropics, and in unpopulated areas. 100 times per second; Lightning can strike over a thousand times in one storm. So, lightning strikes the earth over a million times a day. Globally, 8,640,000 lightning strikes per day.   \n",
       "26  According to the NWS Storm Data, over the last 30 years (1986-2015) the U.S. has averaged 48 reported lightning fatalities per year. Only about 10% of people who are struck by lightning are killed, leaving 90% with various degrees of disability. More recently, in the last 10 years (2006-2015), the U.S. has averaged 31 lightning fatalities.                                                                                                                                                                                                                                                                                      \n",
       "27  Approximately 300,000 lightning strikes hit the ground in Britain each year with 30 percent of reported lightning strikes causing severe damage. Each year 30 to 60 people are recorded as being struck by lightning, 3 of whom, on average, die (14 in 1984 compared to 2 in 2005).                                                                                                                                                                                                                                                                                                                                                       \n",
       "28  Florida is also the state with the highest number of deaths from lightning strikes. Other states along the Gulf of Mexico coast, such as Alabama, Mississippi, Louisiana, and Texas, also have frequent lightning. Along the Atlantic coast, North Carolina and South Carolina have frequent lightning.                                                                                                                                                                                                                                                                                                                                    \n",
       "29  There is estimated to be around 2,000 lightning storm active around the global at one time creating over 100 strikes per second. These thunderstorms generate a potential difference of 200,000 to 500,000 volts between the Earth’s surface and the ionosphere, with a fair weather current of about 2×10-12 amperes/meter2.                                                                                                                                                                                                                                                                                                              \n",
       "\n",
       "    rank  0-9  \n",
       "20  0     0    \n",
       "21  0     1    \n",
       "22  0     2    \n",
       "23  0     3    \n",
       "24  0     4    \n",
       "25  1     5    \n",
       "26  0     6    \n",
       "27  0     7    \n",
       "28  0     8    \n",
       "29  0     9    "
      ]
     },
     "execution_count": 75,
     "metadata": {},
     "output_type": "execute_result"
    }
   ],
   "source": [
    "df.head(30).tail(10)"
   ]
  },
  {
   "cell_type": "code",
   "execution_count": null,
   "metadata": {},
   "outputs": [],
   "source": []
  }
 ],
 "metadata": {
  "kernelspec": {
   "display_name": "Python 3",
   "language": "python",
   "name": "python3"
  },
  "language_info": {
   "codemirror_mode": {
    "name": "ipython",
    "version": 3
   },
   "file_extension": ".py",
   "mimetype": "text/x-python",
   "name": "python",
   "nbconvert_exporter": "python",
   "pygments_lexer": "ipython3",
   "version": "3.7.0"
  }
 },
 "nbformat": 4,
 "nbformat_minor": 2
}
